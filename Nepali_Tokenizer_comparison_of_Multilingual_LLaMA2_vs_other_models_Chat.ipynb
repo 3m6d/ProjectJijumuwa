{
  "cells": [
    {
      "cell_type": "markdown",
      "metadata": {
        "id": "view-in-github",
        "colab_type": "text"
      },
      "source": [
        "<a href=\"https://colab.research.google.com/github/3m6d/ProjectJijumuwa/blob/main/Nepali_Tokenizer_comparison_of_Multilingual_LLaMA2_vs_other_models_Chat.ipynb\" target=\"_parent\"><img src=\"https://colab.research.google.com/assets/colab-badge.svg\" alt=\"Open In Colab\"/></a>"
      ]
    },
    {
      "cell_type": "code",
      "source": [
        "!pip -q install git+https://github.com/huggingface/transformers # need to install from github\n",
        "!pip install -q datasets sentencepiece"
      ],
      "metadata": {
        "id": "TOyVaq6r3oVB",
        "colab": {
          "base_uri": "https://localhost:8080/"
        },
        "outputId": "258ad1c8-e70b-4009-e937-2e5434789e0e"
      },
      "execution_count": 80,
      "outputs": [
        {
          "output_type": "stream",
          "name": "stdout",
          "text": [
            "  Installing build dependencies ... \u001b[?25l\u001b[?25hdone\n",
            "  Getting requirements to build wheel ... \u001b[?25l\u001b[?25hdone\n",
            "  Preparing metadata (pyproject.toml) ... \u001b[?25l\u001b[?25hdone\n"
          ]
        }
      ]
    },
    {
      "cell_type": "markdown",
      "source": [
        "# LLaMA 2, Multilingual Models & Fine Tuning"
      ],
      "metadata": {
        "id": "OMY7QqiMEOBr"
      }
    },
    {
      "cell_type": "code",
      "source": [
        "from huggingface_hub import notebook_login\n",
        "\n",
        "notebook_login()"
      ],
      "metadata": {
        "colab": {
          "base_uri": "https://localhost:8080/",
          "height": 358,
          "referenced_widgets": [
            "7b6475994f56499891dad5e61324ea4a",
            "811e6852d71e4a4fbec73d8d9549929c",
            "e6a450246d27487baea44bb93a612565",
            "02411dc915c94805827313b963c02e6c",
            "857c85eaa69348f5bc040f3dd3f23f34",
            "9f5564e3b94844618c4e1c23a4d31fd9",
            "ef28702865594462b497fa23f436b978",
            "af87c110f1d542ef956635d0c9659db6",
            "17ba21adb9b64e7797d1ed14f6d7776e",
            "1a9d02beda9e455687236e40b2a4af7a",
            "314e22501c344433b245d490f6a06ac7",
            "673cb3501fbd498a8f8ee03dd4d085b2",
            "8ac34595789a47679ef97c38e060b60d",
            "472e929fd2504f9db3805790974cb70d",
            "2eed01c89c00467ebc57967d26c22ee4",
            "d17ee66a6a6f4131a00d34171757ddf3",
            "bca57c845b054958a34994a7870c228b"
          ]
        },
        "id": "NItbG3Ooedqs",
        "outputId": "c7536039-a99d-49e7-bb55-3ffc41697398"
      },
      "execution_count": 81,
      "outputs": [
        {
          "output_type": "display_data",
          "data": {
            "text/plain": [
              "VBox(children=(HTML(value='<center> <img\\nsrc=https://huggingface.co/front/assets/huggingface_logo-noborder.sv…"
            ],
            "application/vnd.jupyter.widget-view+json": {
              "version_major": 2,
              "version_minor": 0,
              "model_id": "7b6475994f56499891dad5e61324ea4a"
            }
          },
          "metadata": {}
        }
      ]
    },
    {
      "cell_type": "markdown",
      "source": [
        "## LLaMA2 7B Chat\n"
      ],
      "metadata": {
        "id": "H0shki19igLy"
      }
    },
    {
      "cell_type": "code",
      "source": [
        "import torch\n",
        "import transformers\n",
        "from transformers import AutoTokenizer, AutoModelForCausalLM"
      ],
      "metadata": {
        "id": "kpXQGhHlij6q"
      },
      "execution_count": 82,
      "outputs": []
    },
    {
      "cell_type": "code",
      "source": [
        "\n",
        "tokenizer = AutoTokenizer.from_pretrained(\"meta-llama/Llama-2-7b-chat-hf\",\n",
        "                                          use_auth_token=True,\n",
        "                                          )\n",
        "\n",
        "# model = AutoModelForCausalLM.from_pretrained(\"meta-llama/Llama-2-7b-chat-hf\",\n",
        "#                                              device_map='auto',\n",
        "#                                              torch_dtype=torch.float16,\n",
        "#                                              use_auth_token=True,\n",
        "#                                             #  load_in_8bit=True,\n",
        "#                                             #  load_in_4bit=True\n",
        "#                                              )"
      ],
      "metadata": {
        "id": "B4Xq1at9iixB"
      },
      "execution_count": 83,
      "outputs": []
    },
    {
      "cell_type": "code",
      "source": [
        "tokenizer.vocab_size"
      ],
      "metadata": {
        "colab": {
          "base_uri": "https://localhost:8080/"
        },
        "id": "4j8oV-SE6mrm",
        "outputId": "f8b35ccb-5f2b-4cd9-8f00-4f32db5cfab0"
      },
      "execution_count": 84,
      "outputs": [
        {
          "output_type": "execute_result",
          "data": {
            "text/plain": [
              "32000"
            ]
          },
          "metadata": {},
          "execution_count": 84
        }
      ]
    },
    {
      "cell_type": "code",
      "source": [
        "tokenizer.tokenize('This is a tokenizer test')"
      ],
      "metadata": {
        "colab": {
          "base_uri": "https://localhost:8080/"
        },
        "id": "t5Iqi2ty6mwe",
        "outputId": "dcffd6dd-5f3b-4a2f-ee91-9155cf8f0d25"
      },
      "execution_count": 85,
      "outputs": [
        {
          "output_type": "execute_result",
          "data": {
            "text/plain": [
              "['▁This', '▁is', '▁a', '▁token', 'izer', '▁test']"
            ]
          },
          "metadata": {},
          "execution_count": 85
        }
      ]
    },
    {
      "cell_type": "code",
      "source": [
        "tokenizer('This is a tokenizer test')"
      ],
      "metadata": {
        "colab": {
          "base_uri": "https://localhost:8080/"
        },
        "id": "71QP9jTa66xM",
        "outputId": "3635b071-7aaa-424a-8e1d-e8404b9e6460"
      },
      "execution_count": 86,
      "outputs": [
        {
          "output_type": "execute_result",
          "data": {
            "text/plain": [
              "{'input_ids': [1, 910, 338, 263, 5993, 3950, 1243], 'attention_mask': [1, 1, 1, 1, 1, 1, 1]}"
            ]
          },
          "metadata": {},
          "execution_count": 86
        }
      ]
    },
    {
      "cell_type": "code",
      "source": [
        "tokenizer.tokenize('this is a Tokenizer test')"
      ],
      "metadata": {
        "colab": {
          "base_uri": "https://localhost:8080/"
        },
        "id": "E0fa7Ll-9i7y",
        "outputId": "9c4d2911-0250-418b-9a38-8d121cc8b9b0"
      },
      "execution_count": 87,
      "outputs": [
        {
          "output_type": "execute_result",
          "data": {
            "text/plain": [
              "['▁this', '▁is', '▁a', '▁Token', 'izer', '▁test']"
            ]
          },
          "metadata": {},
          "execution_count": 87
        }
      ]
    },
    {
      "cell_type": "code",
      "source": [
        "tokenizer('this is a Tokenizer test')"
      ],
      "metadata": {
        "colab": {
          "base_uri": "https://localhost:8080/"
        },
        "id": "20Iy12ks9daG",
        "outputId": "6703831d-cd9c-4166-9c82-88b74e803ac4"
      },
      "execution_count": 88,
      "outputs": [
        {
          "output_type": "execute_result",
          "data": {
            "text/plain": [
              "{'input_ids': [1, 445, 338, 263, 25159, 3950, 1243], 'attention_mask': [1, 1, 1, 1, 1, 1, 1]}"
            ]
          },
          "metadata": {},
          "execution_count": 88
        }
      ]
    },
    {
      "cell_type": "code",
      "source": [
        "tokenizer.decode([1, 910, 338])"
      ],
      "metadata": {
        "colab": {
          "base_uri": "https://localhost:8080/",
          "height": 35
        },
        "id": "QCOU44CnMmfV",
        "outputId": "3bbc5740-9edd-4ea0-ef40-2e2fcacbd11f"
      },
      "execution_count": 89,
      "outputs": [
        {
          "output_type": "execute_result",
          "data": {
            "text/plain": [
              "'<s> This is'"
            ],
            "application/vnd.google.colaboratory.intrinsic+json": {
              "type": "string"
            }
          },
          "metadata": {},
          "execution_count": 89
        }
      ]
    },
    {
      "cell_type": "markdown",
      "source": [
        "# LLaMA 2 tokenizer\n",
        "\n",
        "Is LLaMA 2 got to fine tune for a particular language?\n"
      ],
      "metadata": {
        "id": "Mdqi-FY243og"
      }
    },
    {
      "cell_type": "markdown",
      "source": [
        "### English"
      ],
      "metadata": {
        "id": "YC8GlgsGVSUL"
      }
    },
    {
      "cell_type": "code",
      "source": [
        "tokenizer.tokenize('This is a tokenizer test')"
      ],
      "metadata": {
        "colab": {
          "base_uri": "https://localhost:8080/"
        },
        "id": "3mXWfSRHSIKQ",
        "outputId": "8e220a95-d786-4721-c260-328dd8d6924f"
      },
      "execution_count": 90,
      "outputs": [
        {
          "output_type": "execute_result",
          "data": {
            "text/plain": [
              "['▁This', '▁is', '▁a', '▁token', 'izer', '▁test']"
            ]
          },
          "metadata": {},
          "execution_count": 90
        }
      ]
    },
    {
      "cell_type": "code",
      "source": [
        "tokenizer.tokenize('My name is Sam')"
      ],
      "metadata": {
        "colab": {
          "base_uri": "https://localhost:8080/"
        },
        "id": "oEkbXtCpSZ5Z",
        "outputId": "393cd0d7-603d-44b3-bdda-1f0e79c78e46"
      },
      "execution_count": 91,
      "outputs": [
        {
          "output_type": "execute_result",
          "data": {
            "text/plain": [
              "['▁My', '▁name', '▁is', '▁Sam']"
            ]
          },
          "metadata": {},
          "execution_count": 91
        }
      ]
    },
    {
      "cell_type": "code",
      "source": [
        "tokenizer.tokenize('मलाई आज अलि थकाइ लागेको छ। ')"
      ],
      "metadata": {
        "colab": {
          "base_uri": "https://localhost:8080/"
        },
        "id": "sZR9tQLO1cwy",
        "outputId": "d7a69fdf-b04c-47b4-e518-8765352662b5"
      },
      "execution_count": 92,
      "outputs": [
        {
          "output_type": "execute_result",
          "data": {
            "text/plain": [
              "['▁',\n",
              " 'म',\n",
              " 'ल',\n",
              " 'ा',\n",
              " '<0xE0>',\n",
              " '<0xA4>',\n",
              " '<0x88>',\n",
              " '▁',\n",
              " 'आ',\n",
              " 'ज',\n",
              " '▁',\n",
              " 'अ',\n",
              " 'ल',\n",
              " 'ि',\n",
              " '▁',\n",
              " 'थ',\n",
              " 'क',\n",
              " 'ा',\n",
              " '<0xE0>',\n",
              " '<0xA4>',\n",
              " '<0x87>',\n",
              " '▁',\n",
              " 'ल',\n",
              " 'ा',\n",
              " 'ग',\n",
              " 'े',\n",
              " 'क',\n",
              " 'ो',\n",
              " '▁',\n",
              " '<0xE0>',\n",
              " '<0xA4>',\n",
              " '<0x9B>',\n",
              " '।',\n",
              " '▁']"
            ]
          },
          "metadata": {},
          "execution_count": 92
        }
      ]
    },
    {
      "cell_type": "markdown",
      "source": [
        "# Llama3 tokenizer"
      ],
      "metadata": {
        "id": "Ka5uW2SB2mzr"
      }
    },
    {
      "cell_type": "code",
      "source": [
        "tokenizer = AutoTokenizer.from_pretrained(\"meta-llama/Llama-3.2-1B\",\n",
        "                                          use_auth_token=True,\n",
        "                                          )"
      ],
      "metadata": {
        "id": "nKGP8Ie92gWe"
      },
      "execution_count": 93,
      "outputs": []
    },
    {
      "cell_type": "code",
      "source": [
        "tokenizer.tokenize('मलाई आज अलि थकाइ लागेको छ। ')"
      ],
      "metadata": {
        "colab": {
          "base_uri": "https://localhost:8080/"
        },
        "id": "tXDEftWr3KRm",
        "outputId": "eacc98e1-ae93-4c4a-a9e2-a6c67d3ee374"
      },
      "execution_count": 94,
      "outputs": [
        {
          "output_type": "execute_result",
          "data": {
            "text/plain": [
              "['à¤®',\n",
              " 'à¤²',\n",
              " 'à¤¾à¤Ī',\n",
              " 'Ġà¤Ĩà¤ľ',\n",
              " 'Ġà¤ħà¤²',\n",
              " 'à¤¿',\n",
              " 'Ġà¤¥',\n",
              " 'à¤ķ',\n",
              " 'à¤¾à¤ĩ',\n",
              " 'Ġà¤²',\n",
              " 'à¤¾à¤Ĺ',\n",
              " 'à¥ĩà¤ķ',\n",
              " 'à¥ĭ',\n",
              " 'Ġà¤Ľ',\n",
              " 'à¥¤',\n",
              " 'Ġ']"
            ]
          },
          "metadata": {},
          "execution_count": 94
        }
      ]
    },
    {
      "cell_type": "markdown",
      "source": [
        "# Bloom Tokenizer\n",
        "\n",
        "\n",
        "\n"
      ],
      "metadata": {
        "id": "dED5yfkAbQnB"
      }
    },
    {
      "cell_type": "code",
      "source": [
        "bloom_tokenizer = AutoTokenizer.from_pretrained('bigscience/bloom')"
      ],
      "metadata": {
        "id": "j5Qb4YnjbrMl"
      },
      "execution_count": 95,
      "outputs": []
    },
    {
      "cell_type": "code",
      "source": [
        "bloom_tokenizer.vocab_size"
      ],
      "metadata": {
        "colab": {
          "base_uri": "https://localhost:8080/"
        },
        "id": "3mMDZY695_v-",
        "outputId": "a63f0658-de01-431a-b62f-202d5fd077f0"
      },
      "execution_count": 96,
      "outputs": [
        {
          "output_type": "execute_result",
          "data": {
            "text/plain": [
              "250680"
            ]
          },
          "metadata": {},
          "execution_count": 96
        }
      ]
    },
    {
      "cell_type": "markdown",
      "source": [
        "### English"
      ],
      "metadata": {
        "id": "HrcPgXMEb71g"
      }
    },
    {
      "cell_type": "code",
      "source": [
        "bloom_tokenizer.tokenize('This is a tokenizer test')"
      ],
      "metadata": {
        "colab": {
          "base_uri": "https://localhost:8080/"
        },
        "outputId": "925a7ff7-4170-4c89-a8ef-61958a99b0fb",
        "id": "D8atwpuQb71r"
      },
      "execution_count": 97,
      "outputs": [
        {
          "output_type": "execute_result",
          "data": {
            "text/plain": [
              "['This', 'Ġis', 'Ġa', 'Ġtoken', 'izer', 'Ġtest']"
            ]
          },
          "metadata": {},
          "execution_count": 97
        }
      ]
    },
    {
      "cell_type": "code",
      "source": [
        "bloom_tokenizer.tokenize('My name is Sam')"
      ],
      "metadata": {
        "colab": {
          "base_uri": "https://localhost:8080/"
        },
        "outputId": "11c6a226-0bf8-46cd-f054-2b9d865dbb80",
        "id": "TbjqD7SVb71r"
      },
      "execution_count": 98,
      "outputs": [
        {
          "output_type": "execute_result",
          "data": {
            "text/plain": [
              "['My', 'Ġname', 'Ġis', 'ĠSam']"
            ]
          },
          "metadata": {},
          "execution_count": 98
        }
      ]
    },
    {
      "cell_type": "markdown",
      "source": [
        "### Nepali\n",
        "\n",
        "मलाई आज अलि थकाइ लागेको छ।"
      ],
      "metadata": {
        "id": "LJAC4rLMb71r"
      }
    },
    {
      "cell_type": "code",
      "source": [
        "bloom_tokenizer.tokenize('मलाई आज अलि थकाइ लागेको छ। ')"
      ],
      "metadata": {
        "colab": {
          "base_uri": "https://localhost:8080/"
        },
        "outputId": "9cfdb317-fc30-46ce-8f44-aee4e60eecfa",
        "id": "ltZ8F3uMb71r"
      },
      "execution_count": 99,
      "outputs": [
        {
          "output_type": "execute_result",
          "data": {
            "text/plain": [
              "['à¤®à¤²à¤¾à¤Ī',\n",
              " 'Ġà¤Ĩà¤ľ',\n",
              " 'Ġà¤ħà¤²à¤¿',\n",
              " 'Ġà¤¥à¤ķ',\n",
              " 'à¤¾à¤ĩ',\n",
              " 'Ġà¤²à¤¾à¤Ĺà¥ĩà¤ķà¥ĭ',\n",
              " 'Ġà¤Ľ',\n",
              " 'à¥¤Ġ']"
            ]
          },
          "metadata": {},
          "execution_count": 99
        }
      ]
    },
    {
      "cell_type": "markdown",
      "source": [
        "# GLM2-6B"
      ],
      "metadata": {
        "id": "MjfRh_-Tcgjx"
      }
    },
    {
      "cell_type": "code",
      "source": [
        "glm2_tokenizer = AutoTokenizer.from_pretrained('THUDM/chatglm2-6b', trust_remote_code=True)"
      ],
      "metadata": {
        "id": "c4raUM_Mcq8S"
      },
      "execution_count": 100,
      "outputs": []
    },
    {
      "cell_type": "code",
      "source": [
        "glm2_tokenizer.vocab_size"
      ],
      "metadata": {
        "colab": {
          "base_uri": "https://localhost:8080/"
        },
        "id": "AJhEWoWjCE8q",
        "outputId": "5709960c-4039-401b-81be-93923a355e37"
      },
      "execution_count": 101,
      "outputs": [
        {
          "output_type": "execute_result",
          "data": {
            "text/plain": [
              "64794"
            ]
          },
          "metadata": {},
          "execution_count": 101
        }
      ]
    },
    {
      "cell_type": "markdown",
      "source": [
        "### English"
      ],
      "metadata": {
        "id": "ag-_u5uXcq8S"
      }
    },
    {
      "cell_type": "code",
      "source": [
        "glm2_tokenizer.tokenize('This is a tokenizer test')"
      ],
      "metadata": {
        "colab": {
          "base_uri": "https://localhost:8080/"
        },
        "outputId": "4125a614-0ab5-46ad-c012-6f85f1527682",
        "id": "JHi-099rcq8S"
      },
      "execution_count": 102,
      "outputs": [
        {
          "output_type": "execute_result",
          "data": {
            "text/plain": [
              "['▁This', '▁is', '▁a', '▁token', 'izer', '▁test']"
            ]
          },
          "metadata": {},
          "execution_count": 102
        }
      ]
    },
    {
      "cell_type": "code",
      "source": [
        "glm2_tokenizer.tokenize('My name is Sam')"
      ],
      "metadata": {
        "colab": {
          "base_uri": "https://localhost:8080/"
        },
        "outputId": "a46081fc-da82-4960-a3e2-963d36bf3374",
        "id": "x9F_t8glcq8T"
      },
      "execution_count": 103,
      "outputs": [
        {
          "output_type": "execute_result",
          "data": {
            "text/plain": [
              "['▁My', '▁name', '▁is', '▁Sam']"
            ]
          },
          "metadata": {},
          "execution_count": 103
        }
      ]
    },
    {
      "cell_type": "markdown",
      "source": [
        "### Nepali\n",
        "\n",
        "मलाई आज अलि थकाइ लागेको छ।"
      ],
      "metadata": {
        "id": "cJI3RTQ4cq8T"
      }
    },
    {
      "cell_type": "code",
      "source": [
        "glm2_tokenizer.tokenize('मलाई आज अलि थकाइ लागेको छ। ')"
      ],
      "metadata": {
        "colab": {
          "base_uri": "https://localhost:8080/"
        },
        "outputId": "cc9a9ffd-7796-4808-ac98-529f7f899ddb",
        "id": "KgpwRMrAcq8T"
      },
      "execution_count": 104,
      "outputs": [
        {
          "output_type": "execute_result",
          "data": {
            "text/plain": [
              "['▁',\n",
              " 'म',\n",
              " 'ल',\n",
              " 'ा',\n",
              " '<0xE0>',\n",
              " '<0xA4>',\n",
              " '<0x88>',\n",
              " '▁',\n",
              " 'आ',\n",
              " 'ज',\n",
              " '▁',\n",
              " 'अ',\n",
              " 'ल',\n",
              " 'ि',\n",
              " '▁',\n",
              " 'थ',\n",
              " 'क',\n",
              " 'ा',\n",
              " '<0xE0>',\n",
              " '<0xA4>',\n",
              " '<0x87>',\n",
              " '▁',\n",
              " 'ल',\n",
              " 'ा',\n",
              " 'ग',\n",
              " 'े',\n",
              " 'क',\n",
              " 'ो',\n",
              " '▁',\n",
              " '<0xE0>',\n",
              " '<0xA4>',\n",
              " '<0x9B>',\n",
              " '।',\n",
              " '▁']"
            ]
          },
          "metadata": {},
          "execution_count": 104
        }
      ]
    },
    {
      "cell_type": "markdown",
      "source": [
        "# MT5"
      ],
      "metadata": {
        "id": "fwySWa_-a37Y"
      }
    },
    {
      "cell_type": "code",
      "source": [
        "mt5_tokenizer = AutoTokenizer.from_pretrained('google/mt5-base')"
      ],
      "metadata": {
        "colab": {
          "base_uri": "https://localhost:8080/"
        },
        "id": "QYMix41CUXeZ",
        "outputId": "d0432c6f-1750-4cbc-9b39-8b1ed06c0b29"
      },
      "execution_count": 105,
      "outputs": [
        {
          "output_type": "stream",
          "name": "stderr",
          "text": [
            "/usr/local/lib/python3.10/dist-packages/transformers/convert_slow_tokenizer.py:561: UserWarning: The sentencepiece tokenizer that you are converting to a fast tokenizer uses the byte fallback option which is not implemented in the fast tokenizers. In practice this means that the fast version of the tokenizer can produce unknown tokens whereas the sentencepiece version would have converted these unknown tokens into a sequence of byte tokens matching the original piece of text.\n",
            "  warnings.warn(\n"
          ]
        }
      ]
    },
    {
      "cell_type": "code",
      "source": [
        "mt5_tokenizer.vocab_size"
      ],
      "metadata": {
        "id": "hes4nQ4wUXkF",
        "colab": {
          "base_uri": "https://localhost:8080/"
        },
        "outputId": "c6d634c0-68ef-4543-a8d9-7c8ca2aa7b65"
      },
      "execution_count": 106,
      "outputs": [
        {
          "output_type": "execute_result",
          "data": {
            "text/plain": [
              "250100"
            ]
          },
          "metadata": {},
          "execution_count": 106
        }
      ]
    },
    {
      "cell_type": "markdown",
      "source": [
        "### English"
      ],
      "metadata": {
        "id": "Hr9jzuulbAAX"
      }
    },
    {
      "cell_type": "code",
      "source": [
        "mt5_tokenizer.tokenize('This is a tokenizer test')"
      ],
      "metadata": {
        "colab": {
          "base_uri": "https://localhost:8080/"
        },
        "outputId": "4de1531a-9913-4080-eca0-5ba2634fe76b",
        "id": "Am2Yon5bbAAj"
      },
      "execution_count": 107,
      "outputs": [
        {
          "output_type": "execute_result",
          "data": {
            "text/plain": [
              "['▁This', '▁is', '▁', 'a', '▁', 'token', 'izer', '▁test']"
            ]
          },
          "metadata": {},
          "execution_count": 107
        }
      ]
    },
    {
      "cell_type": "code",
      "source": [
        "mt5_tokenizer.tokenize('My name is Sam')"
      ],
      "metadata": {
        "colab": {
          "base_uri": "https://localhost:8080/"
        },
        "outputId": "2145ea4a-89f9-4ac8-91f9-673444e66e01",
        "id": "lBB08iqrbAAj"
      },
      "execution_count": 108,
      "outputs": [
        {
          "output_type": "execute_result",
          "data": {
            "text/plain": [
              "['▁My', '▁name', '▁is', '▁Sam']"
            ]
          },
          "metadata": {},
          "execution_count": 108
        }
      ]
    },
    {
      "cell_type": "markdown",
      "source": [
        "### Nepali\n",
        "\n",
        "मलाई आज अलि थकाइ लागेको छ।"
      ],
      "metadata": {
        "id": "lDy3f9VlbAAk"
      }
    },
    {
      "cell_type": "code",
      "source": [
        "mt5_tokenizer.tokenize(' मलाई आज अलि थकाइ लागेको छ। ')"
      ],
      "metadata": {
        "colab": {
          "base_uri": "https://localhost:8080/"
        },
        "outputId": "32385f02-d906-4d26-bbe0-3e742e5ac52a",
        "id": "goQdKk3mbAAk"
      },
      "execution_count": 109,
      "outputs": [
        {
          "output_type": "execute_result",
          "data": {
            "text/plain": [
              "['▁म', 'लाई', '▁आज', '▁अ', 'लि', '▁थ', 'का', 'इ', '▁लाग', 'ेको', '▁छ', '।']"
            ]
          },
          "metadata": {},
          "execution_count": 109
        }
      ]
    },
    {
      "cell_type": "markdown",
      "source": [
        "# togethercomputer/RedPajama-INCITE-7B-Base"
      ],
      "metadata": {
        "id": "jplh3q-HCnDO"
      }
    },
    {
      "cell_type": "code",
      "source": [
        "redpajama_incite_tokenizer = AutoTokenizer.from_pretrained('togethercomputer/RedPajama-INCITE-7B-Base')"
      ],
      "metadata": {
        "id": "20AALDmICrya"
      },
      "execution_count": 110,
      "outputs": []
    },
    {
      "cell_type": "code",
      "source": [
        "redpajama_incite_tokenizer.vocab_size"
      ],
      "metadata": {
        "colab": {
          "base_uri": "https://localhost:8080/"
        },
        "outputId": "25138a7a-f559-45a0-8a1e-b08c1c537cd1",
        "id": "dSljTiwLCrya"
      },
      "execution_count": 111,
      "outputs": [
        {
          "output_type": "execute_result",
          "data": {
            "text/plain": [
              "50254"
            ]
          },
          "metadata": {},
          "execution_count": 111
        }
      ]
    },
    {
      "cell_type": "markdown",
      "source": [
        "### English"
      ],
      "metadata": {
        "id": "Yrkh6Rg0Cryb"
      }
    },
    {
      "cell_type": "code",
      "source": [
        "redpajama_incite_tokenizer.tokenize('This is a tokenizer test')"
      ],
      "metadata": {
        "colab": {
          "base_uri": "https://localhost:8080/"
        },
        "outputId": "b761f5f7-6767-4460-f4a1-e17b073bb1e0",
        "id": "p42CdShqCryb"
      },
      "execution_count": 112,
      "outputs": [
        {
          "output_type": "execute_result",
          "data": {
            "text/plain": [
              "['This', 'Ġis', 'Ġa', 'Ġtoken', 'izer', 'Ġtest']"
            ]
          },
          "metadata": {},
          "execution_count": 112
        }
      ]
    },
    {
      "cell_type": "code",
      "source": [
        "redpajama_incite_tokenizer.tokenize('My name is Sam')"
      ],
      "metadata": {
        "colab": {
          "base_uri": "https://localhost:8080/"
        },
        "outputId": "508526dc-e739-4117-d540-72dadf78c062",
        "id": "2o1NzCoaCryb"
      },
      "execution_count": 113,
      "outputs": [
        {
          "output_type": "execute_result",
          "data": {
            "text/plain": [
              "['My', 'Ġname', 'Ġis', 'ĠSam']"
            ]
          },
          "metadata": {},
          "execution_count": 113
        }
      ]
    },
    {
      "cell_type": "markdown",
      "source": [
        "### Nepali\n",
        "\n",
        "मलाई आज अलि थकाइ लागेको छ।"
      ],
      "metadata": {
        "id": "OutbDCA2Cryb"
      }
    },
    {
      "cell_type": "code",
      "source": [
        "redpajama_incite_tokenizer.tokenize('मलाई आज अलि थकाइ लागेको छ। ')"
      ],
      "metadata": {
        "colab": {
          "base_uri": "https://localhost:8080/"
        },
        "outputId": "e849ce8f-8b6d-4c88-d568-68fdcba0f737",
        "id": "KmVfaaZqCryb"
      },
      "execution_count": 114,
      "outputs": [
        {
          "output_type": "execute_result",
          "data": {
            "text/plain": [
              "['à¤®',\n",
              " 'à¤²',\n",
              " 'à¤¾',\n",
              " 'à¤',\n",
              " 'Ī',\n",
              " 'Ġà¤',\n",
              " 'Ĩ',\n",
              " 'à¤',\n",
              " 'ľ',\n",
              " 'Ġà¤',\n",
              " 'ħ',\n",
              " 'à¤²',\n",
              " 'à¤¿',\n",
              " 'Ġà¤',\n",
              " '¥',\n",
              " 'à¤ķ',\n",
              " 'à¤¾',\n",
              " 'à¤',\n",
              " 'ĩ',\n",
              " 'Ġà¤',\n",
              " '²',\n",
              " 'à¤¾',\n",
              " 'à¤Ĺ',\n",
              " 'à¥ĩ',\n",
              " 'à¤ķ',\n",
              " 'à¥ĭ',\n",
              " 'Ġà¤',\n",
              " 'Ľ',\n",
              " 'à¥',\n",
              " '¤',\n",
              " 'Ġ']"
            ]
          },
          "metadata": {},
          "execution_count": 114
        }
      ]
    },
    {
      "cell_type": "code",
      "source": [],
      "metadata": {
        "id": "W4aLRBjEBOW9"
      },
      "execution_count": 114,
      "outputs": []
    },
    {
      "cell_type": "code",
      "source": [],
      "metadata": {
        "id": "4LHgoW6w2YuF"
      },
      "execution_count": 114,
      "outputs": []
    }
  ],
  "metadata": {
    "colab": {
      "provenance": [],
      "gpuClass": "premium",
      "include_colab_link": true
    },
    "gpuClass": "premium",
    "kernelspec": {
      "display_name": "Python 3",
      "name": "python3"
    },
    "language_info": {
      "name": "python"
    },
    "widgets": {
      "application/vnd.jupyter.widget-state+json": {
        "7b6475994f56499891dad5e61324ea4a": {
          "model_module": "@jupyter-widgets/controls",
          "model_name": "VBoxModel",
          "model_module_version": "1.5.0",
          "state": {
            "_dom_classes": [],
            "_model_module": "@jupyter-widgets/controls",
            "_model_module_version": "1.5.0",
            "_model_name": "VBoxModel",
            "_view_count": null,
            "_view_module": "@jupyter-widgets/controls",
            "_view_module_version": "1.5.0",
            "_view_name": "VBoxView",
            "box_style": "",
            "children": [
              "IPY_MODEL_811e6852d71e4a4fbec73d8d9549929c",
              "IPY_MODEL_e6a450246d27487baea44bb93a612565",
              "IPY_MODEL_02411dc915c94805827313b963c02e6c",
              "IPY_MODEL_857c85eaa69348f5bc040f3dd3f23f34",
              "IPY_MODEL_9f5564e3b94844618c4e1c23a4d31fd9"
            ],
            "layout": "IPY_MODEL_ef28702865594462b497fa23f436b978"
          }
        },
        "811e6852d71e4a4fbec73d8d9549929c": {
          "model_module": "@jupyter-widgets/controls",
          "model_name": "HTMLModel",
          "model_module_version": "1.5.0",
          "state": {
            "_dom_classes": [],
            "_model_module": "@jupyter-widgets/controls",
            "_model_module_version": "1.5.0",
            "_model_name": "HTMLModel",
            "_view_count": null,
            "_view_module": "@jupyter-widgets/controls",
            "_view_module_version": "1.5.0",
            "_view_name": "HTMLView",
            "description": "",
            "description_tooltip": null,
            "layout": "IPY_MODEL_af87c110f1d542ef956635d0c9659db6",
            "placeholder": "​",
            "style": "IPY_MODEL_17ba21adb9b64e7797d1ed14f6d7776e",
            "value": "<center> <img\nsrc=https://huggingface.co/front/assets/huggingface_logo-noborder.svg\nalt='Hugging Face'> <br> Copy a token from <a\nhref=\"https://huggingface.co/settings/tokens\" target=\"_blank\">your Hugging Face\ntokens page</a> and paste it below. <br> Immediately click login after copying\nyour token or it might be stored in plain text in this notebook file. </center>"
          }
        },
        "e6a450246d27487baea44bb93a612565": {
          "model_module": "@jupyter-widgets/controls",
          "model_name": "PasswordModel",
          "model_module_version": "1.5.0",
          "state": {
            "_dom_classes": [],
            "_model_module": "@jupyter-widgets/controls",
            "_model_module_version": "1.5.0",
            "_model_name": "PasswordModel",
            "_view_count": null,
            "_view_module": "@jupyter-widgets/controls",
            "_view_module_version": "1.5.0",
            "_view_name": "PasswordView",
            "continuous_update": true,
            "description": "Token:",
            "description_tooltip": null,
            "disabled": false,
            "layout": "IPY_MODEL_1a9d02beda9e455687236e40b2a4af7a",
            "placeholder": "​",
            "style": "IPY_MODEL_314e22501c344433b245d490f6a06ac7",
            "value": ""
          }
        },
        "02411dc915c94805827313b963c02e6c": {
          "model_module": "@jupyter-widgets/controls",
          "model_name": "CheckboxModel",
          "model_module_version": "1.5.0",
          "state": {
            "_dom_classes": [],
            "_model_module": "@jupyter-widgets/controls",
            "_model_module_version": "1.5.0",
            "_model_name": "CheckboxModel",
            "_view_count": null,
            "_view_module": "@jupyter-widgets/controls",
            "_view_module_version": "1.5.0",
            "_view_name": "CheckboxView",
            "description": "Add token as git credential?",
            "description_tooltip": null,
            "disabled": false,
            "indent": true,
            "layout": "IPY_MODEL_673cb3501fbd498a8f8ee03dd4d085b2",
            "style": "IPY_MODEL_8ac34595789a47679ef97c38e060b60d",
            "value": true
          }
        },
        "857c85eaa69348f5bc040f3dd3f23f34": {
          "model_module": "@jupyter-widgets/controls",
          "model_name": "ButtonModel",
          "model_module_version": "1.5.0",
          "state": {
            "_dom_classes": [],
            "_model_module": "@jupyter-widgets/controls",
            "_model_module_version": "1.5.0",
            "_model_name": "ButtonModel",
            "_view_count": null,
            "_view_module": "@jupyter-widgets/controls",
            "_view_module_version": "1.5.0",
            "_view_name": "ButtonView",
            "button_style": "",
            "description": "Login",
            "disabled": false,
            "icon": "",
            "layout": "IPY_MODEL_472e929fd2504f9db3805790974cb70d",
            "style": "IPY_MODEL_2eed01c89c00467ebc57967d26c22ee4",
            "tooltip": ""
          }
        },
        "9f5564e3b94844618c4e1c23a4d31fd9": {
          "model_module": "@jupyter-widgets/controls",
          "model_name": "HTMLModel",
          "model_module_version": "1.5.0",
          "state": {
            "_dom_classes": [],
            "_model_module": "@jupyter-widgets/controls",
            "_model_module_version": "1.5.0",
            "_model_name": "HTMLModel",
            "_view_count": null,
            "_view_module": "@jupyter-widgets/controls",
            "_view_module_version": "1.5.0",
            "_view_name": "HTMLView",
            "description": "",
            "description_tooltip": null,
            "layout": "IPY_MODEL_d17ee66a6a6f4131a00d34171757ddf3",
            "placeholder": "​",
            "style": "IPY_MODEL_bca57c845b054958a34994a7870c228b",
            "value": "\n<b>Pro Tip:</b> If you don't already have one, you can create a dedicated\n'notebooks' token with 'write' access, that you can then easily reuse for all\nnotebooks. </center>"
          }
        },
        "ef28702865594462b497fa23f436b978": {
          "model_module": "@jupyter-widgets/base",
          "model_name": "LayoutModel",
          "model_module_version": "1.2.0",
          "state": {
            "_model_module": "@jupyter-widgets/base",
            "_model_module_version": "1.2.0",
            "_model_name": "LayoutModel",
            "_view_count": null,
            "_view_module": "@jupyter-widgets/base",
            "_view_module_version": "1.2.0",
            "_view_name": "LayoutView",
            "align_content": null,
            "align_items": "center",
            "align_self": null,
            "border": null,
            "bottom": null,
            "display": "flex",
            "flex": null,
            "flex_flow": "column",
            "grid_area": null,
            "grid_auto_columns": null,
            "grid_auto_flow": null,
            "grid_auto_rows": null,
            "grid_column": null,
            "grid_gap": null,
            "grid_row": null,
            "grid_template_areas": null,
            "grid_template_columns": null,
            "grid_template_rows": null,
            "height": null,
            "justify_content": null,
            "justify_items": null,
            "left": null,
            "margin": null,
            "max_height": null,
            "max_width": null,
            "min_height": null,
            "min_width": null,
            "object_fit": null,
            "object_position": null,
            "order": null,
            "overflow": null,
            "overflow_x": null,
            "overflow_y": null,
            "padding": null,
            "right": null,
            "top": null,
            "visibility": null,
            "width": "50%"
          }
        },
        "af87c110f1d542ef956635d0c9659db6": {
          "model_module": "@jupyter-widgets/base",
          "model_name": "LayoutModel",
          "model_module_version": "1.2.0",
          "state": {
            "_model_module": "@jupyter-widgets/base",
            "_model_module_version": "1.2.0",
            "_model_name": "LayoutModel",
            "_view_count": null,
            "_view_module": "@jupyter-widgets/base",
            "_view_module_version": "1.2.0",
            "_view_name": "LayoutView",
            "align_content": null,
            "align_items": null,
            "align_self": null,
            "border": null,
            "bottom": null,
            "display": null,
            "flex": null,
            "flex_flow": null,
            "grid_area": null,
            "grid_auto_columns": null,
            "grid_auto_flow": null,
            "grid_auto_rows": null,
            "grid_column": null,
            "grid_gap": null,
            "grid_row": null,
            "grid_template_areas": null,
            "grid_template_columns": null,
            "grid_template_rows": null,
            "height": null,
            "justify_content": null,
            "justify_items": null,
            "left": null,
            "margin": null,
            "max_height": null,
            "max_width": null,
            "min_height": null,
            "min_width": null,
            "object_fit": null,
            "object_position": null,
            "order": null,
            "overflow": null,
            "overflow_x": null,
            "overflow_y": null,
            "padding": null,
            "right": null,
            "top": null,
            "visibility": null,
            "width": null
          }
        },
        "17ba21adb9b64e7797d1ed14f6d7776e": {
          "model_module": "@jupyter-widgets/controls",
          "model_name": "DescriptionStyleModel",
          "model_module_version": "1.5.0",
          "state": {
            "_model_module": "@jupyter-widgets/controls",
            "_model_module_version": "1.5.0",
            "_model_name": "DescriptionStyleModel",
            "_view_count": null,
            "_view_module": "@jupyter-widgets/base",
            "_view_module_version": "1.2.0",
            "_view_name": "StyleView",
            "description_width": ""
          }
        },
        "1a9d02beda9e455687236e40b2a4af7a": {
          "model_module": "@jupyter-widgets/base",
          "model_name": "LayoutModel",
          "model_module_version": "1.2.0",
          "state": {
            "_model_module": "@jupyter-widgets/base",
            "_model_module_version": "1.2.0",
            "_model_name": "LayoutModel",
            "_view_count": null,
            "_view_module": "@jupyter-widgets/base",
            "_view_module_version": "1.2.0",
            "_view_name": "LayoutView",
            "align_content": null,
            "align_items": null,
            "align_self": null,
            "border": null,
            "bottom": null,
            "display": null,
            "flex": null,
            "flex_flow": null,
            "grid_area": null,
            "grid_auto_columns": null,
            "grid_auto_flow": null,
            "grid_auto_rows": null,
            "grid_column": null,
            "grid_gap": null,
            "grid_row": null,
            "grid_template_areas": null,
            "grid_template_columns": null,
            "grid_template_rows": null,
            "height": null,
            "justify_content": null,
            "justify_items": null,
            "left": null,
            "margin": null,
            "max_height": null,
            "max_width": null,
            "min_height": null,
            "min_width": null,
            "object_fit": null,
            "object_position": null,
            "order": null,
            "overflow": null,
            "overflow_x": null,
            "overflow_y": null,
            "padding": null,
            "right": null,
            "top": null,
            "visibility": null,
            "width": null
          }
        },
        "314e22501c344433b245d490f6a06ac7": {
          "model_module": "@jupyter-widgets/controls",
          "model_name": "DescriptionStyleModel",
          "model_module_version": "1.5.0",
          "state": {
            "_model_module": "@jupyter-widgets/controls",
            "_model_module_version": "1.5.0",
            "_model_name": "DescriptionStyleModel",
            "_view_count": null,
            "_view_module": "@jupyter-widgets/base",
            "_view_module_version": "1.2.0",
            "_view_name": "StyleView",
            "description_width": ""
          }
        },
        "673cb3501fbd498a8f8ee03dd4d085b2": {
          "model_module": "@jupyter-widgets/base",
          "model_name": "LayoutModel",
          "model_module_version": "1.2.0",
          "state": {
            "_model_module": "@jupyter-widgets/base",
            "_model_module_version": "1.2.0",
            "_model_name": "LayoutModel",
            "_view_count": null,
            "_view_module": "@jupyter-widgets/base",
            "_view_module_version": "1.2.0",
            "_view_name": "LayoutView",
            "align_content": null,
            "align_items": null,
            "align_self": null,
            "border": null,
            "bottom": null,
            "display": null,
            "flex": null,
            "flex_flow": null,
            "grid_area": null,
            "grid_auto_columns": null,
            "grid_auto_flow": null,
            "grid_auto_rows": null,
            "grid_column": null,
            "grid_gap": null,
            "grid_row": null,
            "grid_template_areas": null,
            "grid_template_columns": null,
            "grid_template_rows": null,
            "height": null,
            "justify_content": null,
            "justify_items": null,
            "left": null,
            "margin": null,
            "max_height": null,
            "max_width": null,
            "min_height": null,
            "min_width": null,
            "object_fit": null,
            "object_position": null,
            "order": null,
            "overflow": null,
            "overflow_x": null,
            "overflow_y": null,
            "padding": null,
            "right": null,
            "top": null,
            "visibility": null,
            "width": null
          }
        },
        "8ac34595789a47679ef97c38e060b60d": {
          "model_module": "@jupyter-widgets/controls",
          "model_name": "DescriptionStyleModel",
          "model_module_version": "1.5.0",
          "state": {
            "_model_module": "@jupyter-widgets/controls",
            "_model_module_version": "1.5.0",
            "_model_name": "DescriptionStyleModel",
            "_view_count": null,
            "_view_module": "@jupyter-widgets/base",
            "_view_module_version": "1.2.0",
            "_view_name": "StyleView",
            "description_width": ""
          }
        },
        "472e929fd2504f9db3805790974cb70d": {
          "model_module": "@jupyter-widgets/base",
          "model_name": "LayoutModel",
          "model_module_version": "1.2.0",
          "state": {
            "_model_module": "@jupyter-widgets/base",
            "_model_module_version": "1.2.0",
            "_model_name": "LayoutModel",
            "_view_count": null,
            "_view_module": "@jupyter-widgets/base",
            "_view_module_version": "1.2.0",
            "_view_name": "LayoutView",
            "align_content": null,
            "align_items": null,
            "align_self": null,
            "border": null,
            "bottom": null,
            "display": null,
            "flex": null,
            "flex_flow": null,
            "grid_area": null,
            "grid_auto_columns": null,
            "grid_auto_flow": null,
            "grid_auto_rows": null,
            "grid_column": null,
            "grid_gap": null,
            "grid_row": null,
            "grid_template_areas": null,
            "grid_template_columns": null,
            "grid_template_rows": null,
            "height": null,
            "justify_content": null,
            "justify_items": null,
            "left": null,
            "margin": null,
            "max_height": null,
            "max_width": null,
            "min_height": null,
            "min_width": null,
            "object_fit": null,
            "object_position": null,
            "order": null,
            "overflow": null,
            "overflow_x": null,
            "overflow_y": null,
            "padding": null,
            "right": null,
            "top": null,
            "visibility": null,
            "width": null
          }
        },
        "2eed01c89c00467ebc57967d26c22ee4": {
          "model_module": "@jupyter-widgets/controls",
          "model_name": "ButtonStyleModel",
          "model_module_version": "1.5.0",
          "state": {
            "_model_module": "@jupyter-widgets/controls",
            "_model_module_version": "1.5.0",
            "_model_name": "ButtonStyleModel",
            "_view_count": null,
            "_view_module": "@jupyter-widgets/base",
            "_view_module_version": "1.2.0",
            "_view_name": "StyleView",
            "button_color": null,
            "font_weight": ""
          }
        },
        "d17ee66a6a6f4131a00d34171757ddf3": {
          "model_module": "@jupyter-widgets/base",
          "model_name": "LayoutModel",
          "model_module_version": "1.2.0",
          "state": {
            "_model_module": "@jupyter-widgets/base",
            "_model_module_version": "1.2.0",
            "_model_name": "LayoutModel",
            "_view_count": null,
            "_view_module": "@jupyter-widgets/base",
            "_view_module_version": "1.2.0",
            "_view_name": "LayoutView",
            "align_content": null,
            "align_items": null,
            "align_self": null,
            "border": null,
            "bottom": null,
            "display": null,
            "flex": null,
            "flex_flow": null,
            "grid_area": null,
            "grid_auto_columns": null,
            "grid_auto_flow": null,
            "grid_auto_rows": null,
            "grid_column": null,
            "grid_gap": null,
            "grid_row": null,
            "grid_template_areas": null,
            "grid_template_columns": null,
            "grid_template_rows": null,
            "height": null,
            "justify_content": null,
            "justify_items": null,
            "left": null,
            "margin": null,
            "max_height": null,
            "max_width": null,
            "min_height": null,
            "min_width": null,
            "object_fit": null,
            "object_position": null,
            "order": null,
            "overflow": null,
            "overflow_x": null,
            "overflow_y": null,
            "padding": null,
            "right": null,
            "top": null,
            "visibility": null,
            "width": null
          }
        },
        "bca57c845b054958a34994a7870c228b": {
          "model_module": "@jupyter-widgets/controls",
          "model_name": "DescriptionStyleModel",
          "model_module_version": "1.5.0",
          "state": {
            "_model_module": "@jupyter-widgets/controls",
            "_model_module_version": "1.5.0",
            "_model_name": "DescriptionStyleModel",
            "_view_count": null,
            "_view_module": "@jupyter-widgets/base",
            "_view_module_version": "1.2.0",
            "_view_name": "StyleView",
            "description_width": ""
          }
        }
      }
    }
  },
  "nbformat": 4,
  "nbformat_minor": 0
}